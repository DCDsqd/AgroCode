{
 "cells": [
  {
   "cell_type": "code",
   "execution_count": 1,
   "id": "8200abaa-2630-4528-b4ff-82b4e936dcf1",
   "metadata": {},
   "outputs": [],
   "source": [
    "from bs4 import BeautifulSoup\n",
    "import re\n",
    "import sqlite3"
   ]
  },
  {
   "cell_type": "code",
   "execution_count": 2,
   "id": "22925578-a4d8-495b-aec8-cc73b2542fa5",
   "metadata": {},
   "outputs": [],
   "source": [
    "database = \"data.db\"\n",
    "\n",
    "def insert_person_data(conn, data):\n",
    "    sql = ''' INSERT INTO person (age, gender, town, key_profession, specialtys, key_skills, months_of_exp)\n",
    "              VALUES (?, ?, ?, ?, ?, ?, ?) '''\n",
    "    cur = conn.cursor()\n",
    "    cur.execute(sql, data)\n",
    "    conn.commit()\n",
    "    return cur.lastrowid"
   ]
  },
  {
   "cell_type": "markdown",
   "id": "58d73bf8-63ba-4a45-9201-6aa2fa7d6043",
   "metadata": {},
   "source": [
    "# TODO:\n",
    "На некоторых страницах почему-то не выводится опыт работы. Например на 8 записи вместо 138 выводится 0!"
   ]
  },
  {
   "cell_type": "code",
   "execution_count": 5,
   "id": "1915f3b9-89f3-46c5-b447-a81ee2070881",
   "metadata": {},
   "outputs": [
    {
     "name": "stderr",
     "output_type": "stream",
     "text": [
      "\n",
      "KeyboardInterrupt\n",
      "\n"
     ]
    }
   ],
   "source": [
    "for i in range(1, 1002):\n",
    "    with open(f'../data/resumes/resume ({i}).html', 'r', encoding='utf-8') as file:\n",
    "        html_content = file.read()\n",
    "    \n",
    "    soup = BeautifulSoup(html_content, 'html.parser')\n",
    "\n",
    "    # -------------------------\n",
    "    # Пол, возраст, город\n",
    "    gender_element = soup.find('span', {'data-qa': 'resume-personal-gender'})\n",
    "    gender = gender_element.text if gender_element else None\n",
    "    \n",
    "    age_element = soup.find('span', {'data-qa': 'resume-personal-age'})\n",
    "    age_text = age_element.text if age_element else None\n",
    "    \n",
    "    city_element = soup.find('span', {'data-qa': 'resume-personal-address'})\n",
    "    city = city_element.text if city_element else None\n",
    "    \n",
    "    # Используем регулярные выражения для извлечения числа из строки возраста\n",
    "    if age_text:\n",
    "        age = int(re.search(r'\\d+', age_text).group())\n",
    "    else:\n",
    "        age = None\n",
    "    \n",
    "    # -------------------------\n",
    "    # Специализации\n",
    "    specializations_elements = soup.find_all('li', class_='resume-block__specialization')\n",
    "    \n",
    "    specializations = [element.text.strip() for element in specializations_elements]\n",
    "    \n",
    "    specializations = ', '.join(specializations)\n",
    "\n",
    "    # -------------------------\n",
    "    # Опыт работы\n",
    "    experience_elements = soup.find_all('span', class_='resume-block__title-text_sub')[0].find_all('span')\n",
    "\n",
    "    years = 0\n",
    "    months = 0\n",
    "    \n",
    "    for element in experience_elements:\n",
    "        text = element.text.strip()\n",
    "        # Проверяем, содержит ли текст информацию о годах\n",
    "        if 'лет' in text or 'год' in text:\n",
    "            years = int(re.search(r'\\d+', text).group())\n",
    "    \n",
    "        # Проверяем, содержит ли текст информацию о месяцах\n",
    "        elif 'месяц' in text or 'месяцев' in text:\n",
    "            months = int(re.search(r'\\d+', text).group())\n",
    "    \n",
    "    total_months = years * 12 + months\n",
    "\n",
    "    # -------------------------\n",
    "    # Ключевые навыки\n",
    "    if \"Ключевые навыки\" in html_content:\n",
    "        # Находим блок с ключевыми навыками\n",
    "        skills_block = soup.find('div', class_='bloko-tag-list')\n",
    "        \n",
    "        # Находим все элементы с ключевыми навыками\n",
    "        skill_elements = skills_block.find_all('div', {'data-qa': 'bloko-tag bloko-tag_inline'})\n",
    "        \n",
    "        # Извлекаем текст каждого навыка\n",
    "        skills = [skill.find('span', {'data-qa': 'bloko-tag__text'}).text.strip() for skill in skill_elements]\n",
    "        \n",
    "        skills = ', '.join(skills)\n",
    "    else:\n",
    "        skills = None\n",
    "\n",
    "    # -------------------------\n",
    "    # Основная профессия\n",
    "    profession_element = soup.find('span', class_='resume-block__title-text')\n",
    "    profession = profession_element.text.strip()\n",
    "    profession\n",
    "\n",
    "    # -------------------------\n",
    "    # Запись в БД\n",
    "    conn = sqlite3.connect(database)\n",
    "    \n",
    "    data = (age, gender, city, profession, specializations, skills, total_months)\n",
    "    insert_person_data(conn, data)\n",
    "    \n",
    "    conn.close()"
   ]
  },
  {
   "cell_type": "code",
   "execution_count": 74,
   "id": "36992728-5f9f-448c-8bba-249765e24b16",
   "metadata": {},
   "outputs": [
    {
     "name": "stdout",
     "output_type": "stream",
     "text": [
      "{'Название работы': 'Ветеринарный врач', 'Описание': 'Планирование и проведение ветеринарных лечебно-профилактических мероприятий. Карантинирование животных.Формирование ветеринарных отчетов. .Контроль наличия необходимых ветеринарных препаратов.работа в системе \"меркурий\" а именно: Оформление необходимых ветеринарных документов на перемещение и выбытие животных (убой, падеж), оформление ветеринарных документов на перемещение животных в другие регионы.', 'Начало работы': 'Не указано', 'Конец работы': 'Null'}\n",
      "{'Название работы': 'Ветеринарный врач', 'Описание': 'Планирование и проведение ветеринарных лечебно-профилактических мероприятий. Карантинирование животных.Формирование ветеринарных отчетов. .Контроль наличия необходимых ветеринарных препаратов.работа в системе \"меркурий\" а именно: Оформление необходимых ветеринарных документов на перемещение и выбытие животных (убой, падеж), оформление ветеринарных документов на перемещение животных в другие регионы.', 'Начало работы': 'Не указано', 'Конец работы': 'Null'}\n",
      "{'Название работы': 'Ветеринарный врач', 'Описание': 'Планирование и проведение ветеринарных лечебно-профилактических мероприятий. Карантинирование животных.Формирование ветеринарных отчетов. .Контроль наличия необходимых ветеринарных препаратов.работа в системе \"меркурий\" а именно: Оформление необходимых ветеринарных документов на перемещение и выбытие животных (убой, падеж), оформление ветеринарных документов на перемещение животных в другие регионы.', 'Начало работы': 'Не указано', 'Конец работы': 'Null'}\n",
      "{'Название работы': 'Ветеринарный врач', 'Описание': 'Ветеринарный врач', 'Начало работы': 'Не указано', 'Конец работы': 'Null'}\n",
      "{'Название работы': 'Ветеринарный врач', 'Описание': 'Ветеринарный врач', 'Начало работы': 'Не указано', 'Конец работы': 'Null'}\n"
     ]
    }
   ],
   "source": [
    "# Находим основной блок с опытом работы\n",
    "experience_main_block = soup.find('div', {'data-qa': 'resume-block-experience'})\n",
    "\n",
    "if experience_main_block:\n",
    "    # Находим все блоки с датами работы\n",
    "    date_blocks = experience_main_block.find_all('div', class_='bloko-column')\n",
    "\n",
    "    experiences = []\n",
    "\n",
    "    for date_block in date_blocks:\n",
    "        # Извлекаем соответствующий блок работы\n",
    "        work_block = date_block.find_next('div', class_='resume-block-container')\n",
    "\n",
    "        if work_block:\n",
    "            position_element = work_block.find('div', {'data-qa': 'resume-block-experience-position'})\n",
    "            position = position_element.text.strip() if position_element else 'Не указано'\n",
    "\n",
    "            description_element = work_block.find('div', {'data-qa': 'resume-block-experience-description'})\n",
    "            description = description_element.text.strip() if description_element else 'Описание отсутствует'\n",
    "\n",
    "            # Извлекаем даты начала и окончания работы\n",
    "            date_text = date_block.get_text(strip=True)\n",
    "            start_date_search = re.search(r'\\w+\\s\\d+', date_text)\n",
    "            end_date_search = re.search(r'—\\s(.+)', date_text)\n",
    "\n",
    "            start_date = start_date_search.group() if start_date_search else 'Не указано'\n",
    "            end_date = end_date_search.group(1) if end_date_search else 'Null'\n",
    "\n",
    "            experiences.append({\n",
    "                'Название работы': position,\n",
    "                'Описание': description,\n",
    "                'Начало работы': start_date,\n",
    "                'Конец работы': end_date\n",
    "            })\n",
    "\n",
    "    for experience in experiences:\n",
    "        print(experience)\n",
    "else:\n",
    "    print('Блок с опытом работы не найден')"
   ]
  },
  {
   "cell_type": "code",
   "execution_count": 77,
   "id": "e2348346-5d37-4ea0-9306-e9ff22287bcc",
   "metadata": {},
   "outputs": [
    {
     "name": "stdout",
     "output_type": "stream",
     "text": [
      "Высшее образование\n"
     ]
    }
   ],
   "source": [
    "education_blocks = soup.find_all('div', {'data-qa': 'resume-block-education-item'})\n",
    "\n",
    "if not education_blocks:\n",
    "    # Проверяем наличие общего упоминания о высшем образовании\n",
    "    general_education = soup.find('div', {'data-qa': 'resume-block-education'})\n",
    "    if general_education and 'Высшее образование' in general_education.text:\n",
    "        print(\"Высшее образование\")\n",
    "    else:\n",
    "        print(\"Информация об образовании отсутствует\")\n",
    "else:\n",
    "    for block in education_blocks:\n",
    "        # Извлекаем название учебного заведения\n",
    "        university = block.find('div', {'data-qa': 'resume-block-education-name'})\n",
    "        university_name = university.text.strip() if university else 'Не указано'\n",
    "\n",
    "        # Извлекаем специализацию\n",
    "        specialization = block.find('div', {'data-qa': 'resume-block-education-organization'})\n",
    "        specialization_text = specialization.text.strip() if specialization else 'Не указано'\n",
    "\n",
    "        print(f\"Учебное заведение: {university_name}\")\n",
    "        print(f\"Специализация: {specialization_text}\")"
   ]
  },
  {
   "cell_type": "code",
   "execution_count": 82,
   "id": "1c7a5f26-1d57-470d-afb9-25dd456bc0e1",
   "metadata": {},
   "outputs": [],
   "source": []
  }
 ],
 "metadata": {
  "kernelspec": {
   "display_name": "Python 3 (ipykernel)",
   "language": "python",
   "name": "python3"
  },
  "language_info": {
   "codemirror_mode": {
    "name": "ipython",
    "version": 3
   },
   "file_extension": ".py",
   "mimetype": "text/x-python",
   "name": "python",
   "nbconvert_exporter": "python",
   "pygments_lexer": "ipython3",
   "version": "3.11.5"
  }
 },
 "nbformat": 4,
 "nbformat_minor": 5
}
