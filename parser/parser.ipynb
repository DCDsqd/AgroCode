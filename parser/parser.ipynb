{
 "cells": [
  {
   "cell_type": "code",
   "execution_count": 51,
   "id": "8200abaa-2630-4528-b4ff-82b4e936dcf1",
   "metadata": {},
   "outputs": [],
   "source": [
    "from bs4 import BeautifulSoup\n",
    "import re"
   ]
  },
  {
   "cell_type": "code",
   "execution_count": 73,
   "id": "1915f3b9-89f3-46c5-b447-a81ee2070881",
   "metadata": {},
   "outputs": [],
   "source": [
    "with open('resumes/resume (3).html', 'r', encoding='utf-8') as file:\n",
    "    html_content = file.read()"
   ]
  },
  {
   "cell_type": "code",
   "execution_count": 74,
   "id": "d0123370-ea76-4678-8f63-23e1fb9c11da",
   "metadata": {},
   "outputs": [],
   "source": [
    "soup = BeautifulSoup(html_content, 'html.parser')"
   ]
  },
  {
   "cell_type": "markdown",
   "id": "10088227-c289-4d67-8dd5-f7d5c19be0d5",
   "metadata": {},
   "source": [
    "### Пол, возраст, город"
   ]
  },
  {
   "cell_type": "code",
   "execution_count": 75,
   "id": "2eab574c-09ee-4132-af5b-c8a653202843",
   "metadata": {},
   "outputs": [
    {
     "name": "stdout",
     "output_type": "stream",
     "text": [
      "Мужчина 28 Липецк\n"
     ]
    }
   ],
   "source": [
    "gender = soup.find('span', {'data-qa': 'resume-personal-gender'}).text\n",
    "age_text = soup.find('span', {'data-qa': 'resume-personal-age'}).text\n",
    "city = soup.find('span', {'data-qa': 'resume-personal-address'}).text\n",
    "\n",
    "# Используем регулярные выражения для извлечения числа из строки возраста\n",
    "age = int(re.search(r'\\d+', age_text).group())\n",
    "\n",
    "# Выводим извлеченную информацию\n",
    "print(gender, age, city)"
   ]
  },
  {
   "cell_type": "markdown",
   "id": "7267d49d-b088-4a03-b33d-9547db7bf489",
   "metadata": {},
   "source": [
    "### Основная профессия резюме"
   ]
  },
  {
   "cell_type": "code",
   "execution_count": 76,
   "id": "e3004e98-ca99-4aac-b671-9be131cf340b",
   "metadata": {},
   "outputs": [
    {
     "data": {
      "text/plain": [
       "'Агроном'"
      ]
     },
     "execution_count": 76,
     "metadata": {},
     "output_type": "execute_result"
    }
   ],
   "source": [
    "profession_element = soup.find('span', class_='resume-block__title-text')\n",
    "profession = profession_element.text.strip()\n",
    "profession"
   ]
  },
  {
   "cell_type": "markdown",
   "id": "abba44d4-5603-4102-94f0-65d9415be8d9",
   "metadata": {},
   "source": [
    "### Специализации"
   ]
  },
  {
   "cell_type": "code",
   "execution_count": 77,
   "id": "9f49cddc-7a68-4f7c-b367-2c27b0783b4f",
   "metadata": {},
   "outputs": [
    {
     "data": {
      "text/plain": [
       "['Агроном']"
      ]
     },
     "execution_count": 77,
     "metadata": {},
     "output_type": "execute_result"
    }
   ],
   "source": [
    "# Находим все элементы li, которые представляют специализации\n",
    "specializations_elements = soup.find_all('li', class_='resume-block__specialization')\n",
    "\n",
    "# Извлекаем текст из каждого элемента, содержащего специализацию\n",
    "specializations = [element.text.strip() for element in specializations_elements]\n",
    "\n",
    "# Выводим извлеченные специализации\n",
    "specializations"
   ]
  },
  {
   "cell_type": "markdown",
   "id": "1dc2a43f-59d5-444b-8b5e-9a4f50385e4a",
   "metadata": {},
   "source": [
    "### Опыт работы в месяцах"
   ]
  },
  {
   "cell_type": "code",
   "execution_count": 78,
   "id": "af16b08c-91b5-4151-b8c3-98f8fc35f1df",
   "metadata": {},
   "outputs": [
    {
     "name": "stdout",
     "output_type": "stream",
     "text": [
      "63\n"
     ]
    }
   ],
   "source": [
    "experience_elements = soup.find_all('span', class_='resume-block__title-text_sub')[0].find_all('span')\n",
    "\n",
    "# Инициализация переменных для годов и месяцев\n",
    "years = 0\n",
    "months = 0\n",
    "\n",
    "# Проверяем каждый элемент на наличие информации о годах или месяцах\n",
    "for element in experience_elements:\n",
    "    text = element.text.strip()\n",
    "\n",
    "    # Проверяем, содержит ли текст информацию о годах\n",
    "    if 'лет' in text or 'год' in text:\n",
    "        years = int(re.search(r'\\d+', text).group())\n",
    "\n",
    "    # Проверяем, содержит ли текст информацию о месяцах\n",
    "    elif 'месяц' in text:\n",
    "        months = int(re.search(r'\\d+', text).group())\n",
    "\n",
    "# Преобразуем годы в месяцы и суммируем с количеством месяцев\n",
    "total_months = years * 12 + months\n",
    "print(total_months)"
   ]
  },
  {
   "cell_type": "code",
   "execution_count": 79,
   "id": "36992728-5f9f-448c-8bba-249765e24b16",
   "metadata": {},
   "outputs": [
    {
     "name": "stdout",
     "output_type": "stream",
     "text": [
      "None\n",
      "{'Название работы': 'Агроном', 'Описание': '-', 'Начало работы': 'Не указано', 'Конец работы': 'Не указано'}\n"
     ]
    }
   ],
   "source": [
    "# Находим основной блок с опытом работы\n",
    "experience_main_block = soup.find('div', {'data-qa': 'resume-block-experience'})\n",
    "\n",
    "# Проверяем, существует ли основной блок с опытом работы\n",
    "if experience_main_block:\n",
    "    # Находим все блоки с отдельными позициями опыта работы\n",
    "    experience_blocks = experience_main_block.find_all('div', class_='resume-block-container')\n",
    "\n",
    "    # Список для хранения данных опыта работы\n",
    "    experiences = []\n",
    "\n",
    "    for block in experience_blocks:\n",
    "        # Извлекаем название должности\n",
    "        position_element = block.find('div', {'data-qa': 'resume-block-experience-position'})\n",
    "        position = position_element.text.strip() if position_element else 'Не указано'\n",
    "\n",
    "        # Извлекаем описание работы\n",
    "        description_element = block.find('div', {'data-qa': 'resume-block-experience-description'})\n",
    "        description = description_element.text.strip() if description_element else 'Описание отсутствует'\n",
    "\n",
    "        # Извлекаем период работы\n",
    "        date_block = block.find_previous_sibling('div')\n",
    "        print(date_block)\n",
    "        if date_block:\n",
    "            date_text = date_block.get_text(strip=True)\n",
    "            date_parts = date_text.split('—')\n",
    "            start_date = date_parts[0].strip()\n",
    "            end_date = date_parts[1].strip() if len(date_parts) > 1 else 'Null'\n",
    "        else:\n",
    "            start_date = 'Не указано'\n",
    "            end_date = 'Не указано'\n",
    "\n",
    "        # Добавляем информацию в список\n",
    "        experiences.append({\n",
    "            'Название работы': position,\n",
    "            'Описание': description,\n",
    "            'Начало работы': start_date,\n",
    "            'Конец работы': end_date\n",
    "        })\n",
    "\n",
    "    # Выводим информацию о каждом опыте работы\n",
    "    for experience in experiences:\n",
    "        print(experience)\n",
    "else:\n",
    "    print('Блок с опытом работы не найден')"
   ]
  },
  {
   "cell_type": "code",
   "execution_count": null,
   "id": "976b8ade-cabe-4bb8-8ee7-0d3d7fede590",
   "metadata": {},
   "outputs": [],
   "source": []
  }
 ],
 "metadata": {
  "kernelspec": {
   "display_name": "Python 3 (ipykernel)",
   "language": "python",
   "name": "python3"
  },
  "language_info": {
   "codemirror_mode": {
    "name": "ipython",
    "version": 3
   },
   "file_extension": ".py",
   "mimetype": "text/x-python",
   "name": "python",
   "nbconvert_exporter": "python",
   "pygments_lexer": "ipython3",
   "version": "3.11.5"
  }
 },
 "nbformat": 4,
 "nbformat_minor": 5
}
