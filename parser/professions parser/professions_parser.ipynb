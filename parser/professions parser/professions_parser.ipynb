{
 "cells": [
  {
   "cell_type": "code",
   "execution_count": 16,
   "id": "28315a73-4ea7-4a9d-bcce-824fec6f8003",
   "metadata": {},
   "outputs": [],
   "source": [
    "from bs4 import BeautifulSoup\n",
    "import pandas as pd\n",
    "import sqlite3"
   ]
  },
  {
   "cell_type": "code",
   "execution_count": 8,
   "id": "38cc2cd9-8ac6-4e30-a33f-25025157561b",
   "metadata": {},
   "outputs": [],
   "source": [
    "with open('register of professions.html', 'r', encoding='utf-8') as file:\n",
    "    html_content = file.read()\n",
    "\n",
    "soup = BeautifulSoup(html_content, 'html.parser')"
   ]
  },
  {
   "cell_type": "code",
   "execution_count": 9,
   "id": "7c6e5273-f08a-49c9-908c-c93091e7ed71",
   "metadata": {},
   "outputs": [],
   "source": [
    "job_titles = []\n",
    "# Ищем все элементы tr, а затем извлекаем текст из второго элемента td в каждом tr\n",
    "for tr in soup.find_all('tr'):\n",
    "    tds = tr.find_all('td')\n",
    "    if len(tds) > 1:  # Убедитесь, что есть как минимум два элемента td\n",
    "        title = tds[1].get_text().strip()  # Извлекаем и очищаем текст из второго элемента td\n",
    "        job_titles.append(title)"
   ]
  },
  {
   "cell_type": "code",
   "execution_count": 10,
   "id": "6b33e34c-6956-416e-9cda-70a2f7566555",
   "metadata": {},
   "outputs": [],
   "source": [
    "job_titles_lower = [title.lower() for title in job_titles]"
   ]
  },
  {
   "cell_type": "code",
   "execution_count": 13,
   "id": "8e7e2de0-60d8-4750-b1be-35e516bd5f4f",
   "metadata": {},
   "outputs": [],
   "source": [
    "df = pd.DataFrame({'profession_name': job_titles_lower})"
   ]
  },
  {
   "cell_type": "code",
   "execution_count": 18,
   "id": "7af8b389-2cea-4f61-bac3-18a2b3e818e6",
   "metadata": {},
   "outputs": [
    {
     "data": {
      "text/plain": [
       "5559"
      ]
     },
     "execution_count": 18,
     "metadata": {},
     "output_type": "execute_result"
    }
   ],
   "source": [
    "db_path_norm = \"../db//register_of_professions.db\"\n",
    "conn_norm = sqlite3.connect(db_path_norm)\n",
    "\n",
    "df.to_sql(name='proffesions', con=conn_norm, if_exists='replace', index=False)"
   ]
  },
  {
   "cell_type": "code",
   "execution_count": null,
   "id": "093b2176-7762-45ed-9c61-4f6e8b4c8df4",
   "metadata": {},
   "outputs": [],
   "source": []
  }
 ],
 "metadata": {
  "kernelspec": {
   "display_name": "Python 3 (ipykernel)",
   "language": "python",
   "name": "python3"
  },
  "language_info": {
   "codemirror_mode": {
    "name": "ipython",
    "version": 3
   },
   "file_extension": ".py",
   "mimetype": "text/x-python",
   "name": "python",
   "nbconvert_exporter": "python",
   "pygments_lexer": "ipython3",
   "version": "3.11.5"
  }
 },
 "nbformat": 4,
 "nbformat_minor": 5
}
